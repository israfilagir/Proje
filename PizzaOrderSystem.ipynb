{
  "nbformat": 4,
  "nbformat_minor": 0,
  "metadata": {
    "colab": {
      "provenance": [],
      "toc_visible": true,
      "authorship_tag": "ABX9TyNPDwLq1Mar8P6zGkV48OFY",
      "include_colab_link": true
    },
    "kernelspec": {
      "name": "python3",
      "display_name": "Python 3"
    },
    "language_info": {
      "name": "python"
    }
  },
  "cells": [
    {
      "cell_type": "markdown",
      "metadata": {
        "id": "view-in-github",
        "colab_type": "text"
      },
      "source": [
        "<a href=\"https://colab.research.google.com/github/israfilagir/Proje/blob/main/PizzaOrderSystem.ipynb\" target=\"_parent\"><img src=\"https://colab.research.google.com/assets/colab-badge.svg\" alt=\"Open In Colab\"/></a>"
      ]
    },
    {
      "cell_type": "markdown",
      "source": [
        "# Pizza Order System"
      ],
      "metadata": {
        "id": "HLVwuJv4tVI3"
      }
    },
    {
      "cell_type": "markdown",
      "source": [
        "First, We import the libraries."
      ],
      "metadata": {
        "id": "sCSzqvfktHcD"
      }
    },
    {
      "cell_type": "code",
      "execution_count": 23,
      "metadata": {
        "id": "43efy_egtF2h"
      },
      "outputs": [],
      "source": [
        "import csv\n",
        "from datetime import datetime"
      ]
    },
    {
      "cell_type": "markdown",
      "source": [
        "We create a text which is called menu_text for Men.txt ."
      ],
      "metadata": {
        "id": "rW1mmH8ZtN_1"
      }
    },
    {
      "cell_type": "code",
      "source": [
        "menu_text = \"\"\"Please Choose a Pizza Base: \n",
        "1: Classic \n",
        "2: Margherita \n",
        "3: TurkPizza \n",
        "4: PlainPizza \n",
        "and sauce of your choice: \n",
        "11: Olives \n",
        "12: Mushrooms \n",
        "13: GoatCheese \n",
        "14: Meat \n",
        "15: Onions \n",
        "16: Corn \n",
        "Thank you!\"\"\""
      ],
      "metadata": {
        "id": "p7aL-lnstORi"
      },
      "execution_count": 41,
      "outputs": []
    },
    {
      "cell_type": "markdown",
      "source": [
        "We create a file named Menu.txt and write the menu_txt in it."
      ],
      "metadata": {
        "id": "o6lmj6RJtT-4"
      }
    },
    {
      "cell_type": "code",
      "source": [
        "filefortext=open(\"Menu1.txt\",\"a\",encoding='utf-8')\n",
        "filefortext.write(menu_text)\n",
        "filefortext.close()"
      ],
      "metadata": {
        "id": "1BzTSCi7tXgJ"
      },
      "execution_count": 42,
      "outputs": []
    },
    {
      "cell_type": "markdown",
      "source": [
        "We create superclass “pizza” and then we create subclass “Classic_Pizza\",\"Margherita_Pizza\",\"Turk_Pizza\",\"Plain_Pizza\". "
      ],
      "metadata": {
        "id": "qIfttaoQtZbG"
      }
    },
    {
      "cell_type": "code",
      "source": [
        "class Pizza:\n",
        "    def __init__(self, description, cost):\n",
        "        self.description = description\n",
        "        self.cost = cost\n",
        "        \n",
        "    def get_description(self):\n",
        "        return self.description\n",
        "    \n",
        "    def get_cost(self):\n",
        "        return self.cost\n",
        "\n",
        "\n",
        "class Classic_Pizza(Pizza):\n",
        "    def __init__(self):\n",
        "        super().__init__(\"Classic pizza\", 8.0)\n",
        "\n",
        "\n",
        "class Margherita_Pizza(Pizza):\n",
        "    def __init__(self):\n",
        "        super().__init__(\"Margherita pizza\", 10.0)\n",
        "\n",
        "\n",
        "class Turk_Pizza(Pizza):\n",
        "    def __init__(self):\n",
        "        super().__init__(\"Turk pizza\", 16.0)\n",
        "\n",
        "\n",
        "class Plain_Pizza(Pizza):\n",
        "    def __init__(self):\n",
        "        super().__init__(\"Plain pizza\", 6.0)"
      ],
      "metadata": {
        "id": "PwpD4gg8tuMB"
      },
      "execution_count": 26,
      "outputs": []
    },
    {
      "cell_type": "markdown",
      "source": [
        "We create the \"Decorator\" superclass, followed by the \"Olive\",\"Mushroom\",\"Goat_Cheese\",\"Meat\",\"Onion\" and \"Corn\" subclasses.The decorator class use the get_description() and get_cost() methods of the pizza class."
      ],
      "metadata": {
        "id": "5i5_zQuEtqef"
      }
    },
    {
      "cell_type": "code",
      "source": [
        "class Decorator(Pizza):\n",
        "    def __init__(self, pizza_component, description, cost):\n",
        "        self.pizza_component = pizza_component\n",
        "        self.description = description\n",
        "        self.cost = cost\n",
        "        \n",
        "    def get_cost(self):\n",
        "        return self.pizza_component.get_cost() + self.cost\n",
        "    \n",
        "    def get_description(self):\n",
        "        return self.pizza_component.get_description() + ' ' + self.description\n",
        "\n",
        "\n",
        "class Olives(Decorator):\n",
        "    def __init__(self, pizza_component):\n",
        "        super().__init__(pizza_component, \"with Olives\", 2.0)\n",
        "\n",
        "\n",
        "class Mushrooms(Decorator):\n",
        "    def __init__(self, pizza_component):\n",
        "        super().__init__(pizza_component, \"with Mushrooms\", 2.5)\n",
        "\n",
        "\n",
        "class Goat_Cheese(Decorator):\n",
        "    def __init__(self, pizza_component):\n",
        "        super().__init__(pizza_component, \"with Goat Cheese\", 4.0)\n",
        "\n",
        "\n",
        "class Meat(Decorator):\n",
        "    def __init__(self, pizza_component):\n",
        "        super().__init__(pizza_component, \"with Meat\", 2.5)\n",
        "\n",
        "\n",
        "class Onions(Decorator):\n",
        "    def __init__(self, pizza_component):\n",
        "        super().__init__(pizza_component, \"with Onions\", 3.0)\n",
        "\n",
        "\n",
        "class Corn(Decorator):\n",
        "    def __init__(self, pizza_component):\n",
        "        super().__init__(pizza_component, \"with Corn\", 1.0)"
      ],
      "metadata": {
        "id": "bHHqEGRRttSU"
      },
      "execution_count": 27,
      "outputs": []
    },
    {
      "cell_type": "markdown",
      "source": [
        "Inside the main() function, we do all the operations. First, we print the menu on the screen. We then ask the user to choose a pizza and a pizza sauce. We print the selected pizza price to the screen. We get username, user id, user credit card number, user credit card password from the user. Then we upload all the requested information to the file named Orders_Database.csv."
      ],
      "metadata": {
        "id": "zQ3Sk5zvuJBL"
      }
    },
    {
      "cell_type": "code",
      "source": [
        "def main():\n",
        "    print(menu_text)\n",
        "    pizza_choice = int(input(\"Please choose a pizza base (1-4): \"))\n",
        "    if pizza_choice == 1:\n",
        "        pizza = Classic_Pizza()\n",
        "    elif pizza_choice == 2:\n",
        "        pizza = Margherita_Pizza()\n",
        "    elif pizza_choice == 3:\n",
        "        pizza = Turk_Pizza()\n",
        "    elif pizza_choice == 4:\n",
        "        pizza = Plain_Pizza()\n",
        "    else:\n",
        "        print(\"Invalid Choice\")\n",
        "        return\n",
        "    \n",
        "\n",
        "    sauce_choice = int(input(\"Please choose a sauce (11-16): \"))\n",
        "    if sauce_choice == 11:\n",
        "        pizza = Olives(pizza)\n",
        "    elif sauce_choice == 12:\n",
        "        pizza = Mushrooms(pizza)\n",
        "    elif sauce_choice == 13:\n",
        "        pizza = Goat_Cheese(pizza)\n",
        "    elif sauce_choice == 14:\n",
        "        pizza = Meat(pizza)\n",
        "    elif sauce_choice == 15:\n",
        "        pizza = Onions(pizza)\n",
        "    elif sauce_choice == 16:\n",
        "        pizza = Corn(pizza)\n",
        "    else:\n",
        "        print(\"Invalid Choice\")\n",
        "        return\n",
        "    \n",
        "    print(\"\\n\"+\"user description order:\"+pizza.get_description()+\" - user payment:\"+str(pizza.get_cost())) \n",
        "    \n",
        "    user_name=str(input(\"name?\"))\n",
        "    user_id=str(input(\"id?\"))\n",
        "    user_credit_card_number=str(input(\"user credit card number?\"))\n",
        "    user_credit_card_password=str(input(\"user credit card password?\"))\n",
        "    user_description_order=str(pizza.get_description())\n",
        "    user_payment=str(pizza.get_cost())\n",
        "    user_time_order=str(datetime.now())\n",
        "\n",
        "    user_data=user_name+\",\"+user_id+\",\"+user_credit_card_number+\",\"+user_credit_card_password+\",\"+user_description_order+\",\"+user_payment+\",\"+user_time_order+\"\\n\"\n",
        "    csvfile=open(\"Orders_Database\"+\".csv\",'a',newline='')\n",
        "    writer=csv.writer(csvfile)\n",
        "    writer.writerow(user_data)\n",
        "    csvfile.close()\n",
        "\n",
        "\n",
        "    print(\"\\n\"+\"user name:\"+user_name) \n",
        "    print(\"\\n\"+\"user id:\"+user_id) \n",
        "    print(\"\\n\"+\"user credit card number:\"+user_credit_card_number)\n",
        "    print(\"\\n\"+\"user credit card password\"+user_credit_card_password) \n",
        "    print(\"\\n\"+\"user description order\"+user_description_order) \n",
        "    print(\"\\n\"+\"user payment:\"+user_payment) \n",
        "    print(\"\\n\"+\"user time order:\"+user_time_order)\n"
      ],
      "metadata": {
        "id": "y1bsKbT6uJsI"
      },
      "execution_count": 37,
      "outputs": []
    },
    {
      "cell_type": "markdown",
      "source": [
        "Finally, we call the main() function."
      ],
      "metadata": {
        "id": "h4ud1EoduQbD"
      }
    },
    {
      "cell_type": "code",
      "source": [
        "main()"
      ],
      "metadata": {
        "colab": {
          "base_uri": "https://localhost:8080/"
        },
        "id": "hC-i2DxiuSrI",
        "outputId": "234e57d6-203a-42b0-a5fa-2c3f83dcae1e"
      },
      "execution_count": 38,
      "outputs": [
        {
          "output_type": "stream",
          "name": "stdout",
          "text": [
            "Please Choose a Pizza Base: \n",
            "1: Classic \n",
            "2: Margherita \n",
            "3: TurkPizza \n",
            "4: PlainPizza \n",
            "and sauce of your choice: \n",
            "11: Olives \n",
            "12: Mushrooms \n",
            "13: GoatCheese \n",
            "14: Meat \n",
            "15: Onions \n",
            "16: Corn \n",
            "Thank you!\n",
            "Please choose a pizza base (1-4): 3\n",
            "Please choose a sauce (11-16): 13\n",
            "\n",
            "user description order:Turk pizza with Goat Cheese - user payment:20.0\n",
            "name?israfil\n",
            "id?12345678910\n",
            "user credit card number?1234432112344321\n",
            "user credit card password?1234\n",
            "\n",
            "user name:israfil\n",
            "\n",
            "user id:12345678910\n",
            "\n",
            "user credit card number:1234432112344321\n",
            "\n",
            "user credit card password1234\n",
            "\n",
            "user description orderTurk pizza with Goat Cheese\n",
            "\n",
            "user payment:20.0\n",
            "\n",
            "user time order:2023-03-13 17:04:45.022550\n"
          ]
        }
      ]
    }
  ]
}